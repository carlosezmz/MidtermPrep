{
 "cells": [
  {
   "cell_type": "markdown",
   "metadata": {},
   "source": [
    "# Multiple Choice Questions\n",
    "\n",
    "[1]. What is the output for L1+L2 if:\n",
    "    L1 = [x for x in range(1,5)]\n",
    "    L2 = [x for x in range(5,9)] \n",
    "    \n",
    "    a. [1, 2, 3, 4, 5, 5, 6, 7, 8, 9]\n",
    "    b. [6, 8, 10, 12]\n",
    "    c. [1, 2, 3, 4, 5, 6, 7, 8]\n",
    "    d. [1, 2, 3, 4, 5, 6, 7, 8, 9]\n",
    "    \n",
    "    \n",
    "[2]. Select the dictionary that best represents a data sequence and supported commands by its key and values:\n",
    "\n",
    "    a. {'Stack': ['pop()', append()], 'Deque': ['popleft()', 'append()'], 'Queue': ['pop()', 'popleft()', 'append()', 'appendleft()']}\n",
    "    \n",
    "    b. {'Stack': ['pop()', append()], 'Deque': ['pop()', 'popleft()', 'append()', 'appendleft()'], 'Queue': ['popleft()', 'append()']}\n",
    "    \n",
    "    c. {'Stack': ['popleft()', 'append()'], 'Deque': ['pop()', 'popleft()', 'append()', 'appendleft()'], 'Queue': ['pop()', append()]}\n",
    "    \n",
    "    d. {'Stack': ['pop()', 'popleft()', 'append()', 'appendleft()'], 'Deque': ['popleft()', 'append()'], 'Queue': ['pop()', append()]}"
   ]
  },
  {
   "cell_type": "code",
   "execution_count": null,
   "metadata": {},
   "outputs": [],
   "source": []
  },
  {
   "cell_type": "markdown",
   "metadata": {},
   "source": [
    "# True and False Questions\n",
    "\n",
    "[1]. What will the output of the print function be?\n",
    "\n",
    "    l1_np = np.array([x for x in range(1,5)]) \n",
    "    l2_np = np.array([x for x in range(5,9)]) \n",
    "    print((l2_np + l1_np == [ 6,  8, 10, 12]))\n",
    "    \n",
    "    a. True\n",
    "    b. False\n",
    "    \n",
    "    \n",
    "[2]. Out of the three sequence data structures described in question 2 from the multiple choice questions, Queque is the only that canbe imported from the collections library.\n",
    "\n",
    "    a. True\n",
    "    b. False  "
   ]
  },
  {
   "cell_type": "code",
   "execution_count": null,
   "metadata": {},
   "outputs": [],
   "source": []
  },
  {
   "cell_type": "markdown",
   "metadata": {},
   "source": [
    "# Short Answer Questions"
   ]
  },
  {
   "cell_type": "markdown",
   "metadata": {},
   "source": [
    "[1]. Retrieveing data from the web"
   ]
  },
  {
   "cell_type": "code",
   "execution_count": null,
   "metadata": {},
   "outputs": [],
   "source": [
    "# Import pandas as pd and urlretrieve from urllib.request\n",
    "_______________________________\n",
    "_______________________________\n",
    "\n",
    "# Using the url, retrieve data as a csv file named 'wine_quality.csv'\n",
    "url = 'https://assets.datacamp.com/production/course_1606/datasets/winequality-red.csv'\n",
    "\n",
    "urlretrieve(___, 'wine_quality.csv')\n",
    "\n",
    "# Read the 'wine_quality.csv' as a data frame separated by ';'\n",
    "__________________________________\n",
    "\n",
    "# print the first 5 values of the data frame\n",
    "___________________________________"
   ]
  },
  {
   "cell_type": "markdown",
   "metadata": {},
   "source": [
    "[2]. Data web scrapping. In this exercise you will scrape AAPL stock price from yahoo Finance."
   ]
  },
  {
   "cell_type": "code",
   "execution_count": null,
   "metadata": {},
   "outputs": [],
   "source": [
    "# Import 'BeautifulSoup' as BS from the library 'bs4' and 'HTML' from 'IPython.display'\n",
    "import requests\n",
    "_______________________________\n",
    "_______________________________\n",
    "\n",
    "url = 'https://finance.yahoo.com/quote/AAPL/history?p=AAPL'"
   ]
  },
  {
   "cell_type": "code",
   "execution_count": null,
   "metadata": {},
   "outputs": [],
   "source": [
    "# use 'requests.get' to link the url and save as req \n",
    "url = 'https://finance.yahoo.com/quote/AAPL/history?p=AAPL'\n",
    "req = requests.get(url)\n",
    "soup = BS(req.text, 'html.parser')\n",
    "\n",
    "# table information stored as table\n",
    "tables = soup.find_all('table')\n",
    "\n",
    "# use 'HTML' function to display the table\n",
    "____(str(tables))\n"
   ]
  },
  {
   "cell_type": "code",
   "execution_count": null,
   "metadata": {},
   "outputs": [],
   "source": [
    "# Data Lake setup\n",
    "rows = [row for row in tables[0].find_all('tr')]\n",
    "\n",
    "\n",
    "col_names = [col.get_text().strip().lower() for col in rows[0].find_all('th')]\n",
    "\n",
    "\n",
    "value_rows = [ [ col.get_text() for col in row.find_all('td') ] for row in rows[1:] if len(row)==7]\n",
    "\n",
    "value_series =list(zip(*value_rows))\n",
    "\n",
    "# Zip 'col_names' and 'value_series' into a dictionary\n",
    "_______________________________________________\n",
    "\n",
    "# Convert the dictionary into a data frame\n",
    "_______________________________\n",
    "\n",
    "# use the column 'date' to index the data frame\n",
    "____________________________\n",
    "\n",
    "# print the first 5 observations of the new data frame\n",
    "________________________________________\n",
    "\n"
   ]
  },
  {
   "cell_type": "markdown",
   "metadata": {},
   "source": [
    "# Task on a Data Mini Set"
   ]
  },
  {
   "cell_type": "code",
   "execution_count": null,
   "metadata": {},
   "outputs": [],
   "source": []
  },
  {
   "cell_type": "markdown",
   "metadata": {},
   "source": [
    "# Answers"
   ]
  },
  {
   "cell_type": "markdown",
   "metadata": {},
   "source": [
    "### Multiple Choice Questions"
   ]
  },
  {
   "cell_type": "raw",
   "metadata": {},
   "source": [
    "1. (c)\n",
    "2. (b)\n"
   ]
  },
  {
   "cell_type": "markdown",
   "metadata": {},
   "source": [
    "### True and False Questions"
   ]
  },
  {
   "cell_type": "raw",
   "metadata": {},
   "source": [
    "1. (a)\n",
    "2. (b)\n"
   ]
  },
  {
   "cell_type": "markdown",
   "metadata": {},
   "source": [
    "### Short Answer Questions"
   ]
  },
  {
   "cell_type": "markdown",
   "metadata": {},
   "source": [
    "1. Retrieveing data from the web"
   ]
  },
  {
   "cell_type": "code",
   "execution_count": 20,
   "metadata": {},
   "outputs": [
    {
     "data": {
      "text/html": [
       "<div>\n",
       "<style scoped>\n",
       "    .dataframe tbody tr th:only-of-type {\n",
       "        vertical-align: middle;\n",
       "    }\n",
       "\n",
       "    .dataframe tbody tr th {\n",
       "        vertical-align: top;\n",
       "    }\n",
       "\n",
       "    .dataframe thead th {\n",
       "        text-align: right;\n",
       "    }\n",
       "</style>\n",
       "<table border=\"1\" class=\"dataframe\">\n",
       "  <thead>\n",
       "    <tr style=\"text-align: right;\">\n",
       "      <th></th>\n",
       "      <th>fixed acidity</th>\n",
       "      <th>volatile acidity</th>\n",
       "      <th>citric acid</th>\n",
       "      <th>residual sugar</th>\n",
       "      <th>chlorides</th>\n",
       "      <th>free sulfur dioxide</th>\n",
       "      <th>total sulfur dioxide</th>\n",
       "      <th>density</th>\n",
       "      <th>pH</th>\n",
       "      <th>sulphates</th>\n",
       "      <th>alcohol</th>\n",
       "      <th>quality</th>\n",
       "    </tr>\n",
       "  </thead>\n",
       "  <tbody>\n",
       "    <tr>\n",
       "      <th>0</th>\n",
       "      <td>7.4</td>\n",
       "      <td>0.70</td>\n",
       "      <td>0.00</td>\n",
       "      <td>1.9</td>\n",
       "      <td>0.076</td>\n",
       "      <td>11.0</td>\n",
       "      <td>34.0</td>\n",
       "      <td>0.9978</td>\n",
       "      <td>3.51</td>\n",
       "      <td>0.56</td>\n",
       "      <td>9.4</td>\n",
       "      <td>5</td>\n",
       "    </tr>\n",
       "    <tr>\n",
       "      <th>1</th>\n",
       "      <td>7.8</td>\n",
       "      <td>0.88</td>\n",
       "      <td>0.00</td>\n",
       "      <td>2.6</td>\n",
       "      <td>0.098</td>\n",
       "      <td>25.0</td>\n",
       "      <td>67.0</td>\n",
       "      <td>0.9968</td>\n",
       "      <td>3.20</td>\n",
       "      <td>0.68</td>\n",
       "      <td>9.8</td>\n",
       "      <td>5</td>\n",
       "    </tr>\n",
       "    <tr>\n",
       "      <th>2</th>\n",
       "      <td>7.8</td>\n",
       "      <td>0.76</td>\n",
       "      <td>0.04</td>\n",
       "      <td>2.3</td>\n",
       "      <td>0.092</td>\n",
       "      <td>15.0</td>\n",
       "      <td>54.0</td>\n",
       "      <td>0.9970</td>\n",
       "      <td>3.26</td>\n",
       "      <td>0.65</td>\n",
       "      <td>9.8</td>\n",
       "      <td>5</td>\n",
       "    </tr>\n",
       "    <tr>\n",
       "      <th>3</th>\n",
       "      <td>11.2</td>\n",
       "      <td>0.28</td>\n",
       "      <td>0.56</td>\n",
       "      <td>1.9</td>\n",
       "      <td>0.075</td>\n",
       "      <td>17.0</td>\n",
       "      <td>60.0</td>\n",
       "      <td>0.9980</td>\n",
       "      <td>3.16</td>\n",
       "      <td>0.58</td>\n",
       "      <td>9.8</td>\n",
       "      <td>6</td>\n",
       "    </tr>\n",
       "    <tr>\n",
       "      <th>4</th>\n",
       "      <td>7.4</td>\n",
       "      <td>0.70</td>\n",
       "      <td>0.00</td>\n",
       "      <td>1.9</td>\n",
       "      <td>0.076</td>\n",
       "      <td>11.0</td>\n",
       "      <td>34.0</td>\n",
       "      <td>0.9978</td>\n",
       "      <td>3.51</td>\n",
       "      <td>0.56</td>\n",
       "      <td>9.4</td>\n",
       "      <td>5</td>\n",
       "    </tr>\n",
       "  </tbody>\n",
       "</table>\n",
       "</div>"
      ],
      "text/plain": [
       "   fixed acidity  volatile acidity  citric acid  residual sugar  chlorides  \\\n",
       "0            7.4              0.70         0.00             1.9      0.076   \n",
       "1            7.8              0.88         0.00             2.6      0.098   \n",
       "2            7.8              0.76         0.04             2.3      0.092   \n",
       "3           11.2              0.28         0.56             1.9      0.075   \n",
       "4            7.4              0.70         0.00             1.9      0.076   \n",
       "\n",
       "   free sulfur dioxide  total sulfur dioxide  density    pH  sulphates  \\\n",
       "0                 11.0                  34.0   0.9978  3.51       0.56   \n",
       "1                 25.0                  67.0   0.9968  3.20       0.68   \n",
       "2                 15.0                  54.0   0.9970  3.26       0.65   \n",
       "3                 17.0                  60.0   0.9980  3.16       0.58   \n",
       "4                 11.0                  34.0   0.9978  3.51       0.56   \n",
       "\n",
       "   alcohol  quality  \n",
       "0      9.4        5  \n",
       "1      9.8        5  \n",
       "2      9.8        5  \n",
       "3      9.8        6  \n",
       "4      9.4        5  "
      ]
     },
     "execution_count": 20,
     "metadata": {},
     "output_type": "execute_result"
    }
   ],
   "source": [
    "# Import pandas as pd and urlretrieve from urllib.request\n",
    "from urllib.request import urlretrieve\n",
    "import pandas as pd\n",
    "\n",
    "# Using the url, retrieve data as a csv file named 'wine_quality.csv'\n",
    "url = 'https://assets.datacamp.com/production/course_1606/datasets/winequality-red.csv'\n",
    "\n",
    "urlretrieve(url, 'wine_quality.csv')\n",
    "\n",
    "# Read the 'wine_quality.csv' as a data frame separated by ';'\n",
    "df = pd.read_csv('wine_quality.csv', sep=';')\n",
    "\n",
    "# print the first 5 values of the data frame\n",
    "df.head()"
   ]
  },
  {
   "cell_type": "markdown",
   "metadata": {},
   "source": [
    "2. Data Web Scrapping"
   ]
  },
  {
   "cell_type": "code",
   "execution_count": 100,
   "metadata": {},
   "outputs": [
    {
     "data": {
      "text/html": [
       "<div>\n",
       "<style scoped>\n",
       "    .dataframe tbody tr th:only-of-type {\n",
       "        vertical-align: middle;\n",
       "    }\n",
       "\n",
       "    .dataframe tbody tr th {\n",
       "        vertical-align: top;\n",
       "    }\n",
       "\n",
       "    .dataframe thead th {\n",
       "        text-align: right;\n",
       "    }\n",
       "</style>\n",
       "<table border=\"1\" class=\"dataframe\">\n",
       "  <thead>\n",
       "    <tr style=\"text-align: right;\">\n",
       "      <th></th>\n",
       "      <th>date</th>\n",
       "      <th>open</th>\n",
       "      <th>high</th>\n",
       "      <th>low</th>\n",
       "      <th>close*</th>\n",
       "      <th>adj close**</th>\n",
       "      <th>volume</th>\n",
       "    </tr>\n",
       "    <tr>\n",
       "      <th>date</th>\n",
       "      <th></th>\n",
       "      <th></th>\n",
       "      <th></th>\n",
       "      <th></th>\n",
       "      <th></th>\n",
       "      <th></th>\n",
       "      <th></th>\n",
       "    </tr>\n",
       "  </thead>\n",
       "  <tbody>\n",
       "    <tr>\n",
       "      <th>Nov 19, 2018</th>\n",
       "      <td>Nov 19, 2018</td>\n",
       "      <td>190.00</td>\n",
       "      <td>190.70</td>\n",
       "      <td>184.99</td>\n",
       "      <td>185.86</td>\n",
       "      <td>185.86</td>\n",
       "      <td>41,356,195</td>\n",
       "    </tr>\n",
       "    <tr>\n",
       "      <th>Nov 16, 2018</th>\n",
       "      <td>Nov 16, 2018</td>\n",
       "      <td>190.50</td>\n",
       "      <td>194.97</td>\n",
       "      <td>189.46</td>\n",
       "      <td>193.53</td>\n",
       "      <td>193.53</td>\n",
       "      <td>36,208,500</td>\n",
       "    </tr>\n",
       "    <tr>\n",
       "      <th>Nov 15, 2018</th>\n",
       "      <td>Nov 15, 2018</td>\n",
       "      <td>188.39</td>\n",
       "      <td>191.97</td>\n",
       "      <td>186.90</td>\n",
       "      <td>191.41</td>\n",
       "      <td>191.41</td>\n",
       "      <td>46,478,800</td>\n",
       "    </tr>\n",
       "    <tr>\n",
       "      <th>Nov 14, 2018</th>\n",
       "      <td>Nov 14, 2018</td>\n",
       "      <td>193.90</td>\n",
       "      <td>194.48</td>\n",
       "      <td>185.93</td>\n",
       "      <td>186.80</td>\n",
       "      <td>186.80</td>\n",
       "      <td>60,801,000</td>\n",
       "    </tr>\n",
       "    <tr>\n",
       "      <th>Nov 13, 2018</th>\n",
       "      <td>Nov 13, 2018</td>\n",
       "      <td>191.63</td>\n",
       "      <td>197.18</td>\n",
       "      <td>191.45</td>\n",
       "      <td>192.23</td>\n",
       "      <td>192.23</td>\n",
       "      <td>46,882,900</td>\n",
       "    </tr>\n",
       "  </tbody>\n",
       "</table>\n",
       "</div>"
      ],
      "text/plain": [
       "                      date    open    high     low  close* adj close**  \\\n",
       "date                                                                     \n",
       "Nov 19, 2018  Nov 19, 2018  190.00  190.70  184.99  185.86      185.86   \n",
       "Nov 16, 2018  Nov 16, 2018  190.50  194.97  189.46  193.53      193.53   \n",
       "Nov 15, 2018  Nov 15, 2018  188.39  191.97  186.90  191.41      191.41   \n",
       "Nov 14, 2018  Nov 14, 2018  193.90  194.48  185.93  186.80      186.80   \n",
       "Nov 13, 2018  Nov 13, 2018  191.63  197.18  191.45  192.23      192.23   \n",
       "\n",
       "                  volume  \n",
       "date                      \n",
       "Nov 19, 2018  41,356,195  \n",
       "Nov 16, 2018  36,208,500  \n",
       "Nov 15, 2018  46,478,800  \n",
       "Nov 14, 2018  60,801,000  \n",
       "Nov 13, 2018  46,882,900  "
      ]
     },
     "execution_count": 100,
     "metadata": {},
     "output_type": "execute_result"
    }
   ],
   "source": [
    "# Libraries load\n",
    "import requests\n",
    "from bs4 import BeautifulSoup as BS\n",
    "from IPython.display import HTML\n",
    "\n",
    "# Data web request\n",
    "url = 'https://finance.yahoo.com/quote/AAPL/history?p=AAPL'\n",
    "req = requests.get(url)\n",
    "\n",
    "# Soup creation\n",
    "soup = BS(req.text, 'html.parser')\n",
    "\n",
    "# Table extraction\n",
    "tables = soup.find_all('table')\n",
    "\n",
    "# Data lake setup\n",
    "rows = [row for row in tables[0].find_all('tr')]\n",
    "\n",
    "# Columns names extraction\n",
    "colheads = [col.get_text().strip().lower() for col in rows[0].find_all('th')]\n",
    "\n",
    "# Observations\n",
    "value_rows = [ [ col.get_text() for col in row.find_all('td') ] for row in rows[1:] if len(row)==7]\n",
    "value_series =list(zip(*value_rows))\n",
    "data_dict = dict(zip(colheads,value_series))\n",
    "df = pd.DataFrame(data_dict)\n",
    "df.index = df.date\n",
    "df.head()\n"
   ]
  },
  {
   "cell_type": "code",
   "execution_count": null,
   "metadata": {},
   "outputs": [],
   "source": []
  }
 ],
 "metadata": {
  "kernelspec": {
   "display_name": "Python 3",
   "language": "python",
   "name": "python3"
  },
  "language_info": {
   "codemirror_mode": {
    "name": "ipython",
    "version": 3
   },
   "file_extension": ".py",
   "mimetype": "text/x-python",
   "name": "python",
   "nbconvert_exporter": "python",
   "pygments_lexer": "ipython3",
   "version": "3.6.6"
  }
 },
 "nbformat": 4,
 "nbformat_minor": 2
}
